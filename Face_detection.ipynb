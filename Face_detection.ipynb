{
  "nbformat": 4,
  "nbformat_minor": 0,
  "metadata": {
    "colab": {
      "name": "Face detection.ipynb",
      "provenance": [],
      "collapsed_sections": [],
      "toc_visible": true,
      "include_colab_link": true
    },
    "kernelspec": {
      "name": "python3",
      "display_name": "Python 3"
    }
  },
  "cells": [
    {
      "cell_type": "markdown",
      "metadata": {
        "id": "view-in-github",
        "colab_type": "text"
      },
      "source": [
        "<a href=\"https://colab.research.google.com/github/shyam1234/AIML_RND/blob/master/Face_detection.ipynb\" target=\"_parent\"><img src=\"https://colab.research.google.com/assets/colab-badge.svg\" alt=\"Open In Colab\"/></a>"
      ]
    },
    {
      "cell_type": "markdown",
      "metadata": {
        "id": "njkcAgMZ-8Iu",
        "colab_type": "text"
      },
      "source": [
        "## Face Detection with Python using OpenCV\n",
        "\n",
        "Face detection is a computer vision technology that helps to locate/visualize human faces in digital images. This technique is a specific use case of object detection technology that deals with detecting instances of semantic objects of a certain class (such as humans, buildings or cars) in digital images and videos. With the advent of technology, face detection has gained a lot of importance especially in fields like photography, security, and marketing.\n",
        "\n"
      ]
    },
    {
      "cell_type": "markdown",
      "metadata": {
        "id": "_hlXn7JCBVXm",
        "colab_type": "text"
      },
      "source": [
        "### Load the necessary Libraries"
      ]
    },
    {
      "cell_type": "code",
      "metadata": {
        "id": "WhhXnekqBU5y",
        "colab_type": "code",
        "colab": {}
      },
      "source": [
        "import numpy as np\n",
        "import cv2\n",
        "import matplotlib.pyplot as plt\n",
        "%matplotlib inline"
      ],
      "execution_count": 0,
      "outputs": []
    },
    {
      "cell_type": "markdown",
      "metadata": {
        "id": "wba8Q5JZphOr",
        "colab_type": "text"
      },
      "source": [
        "### Load the image and convert to gray image"
      ]
    },
    {
      "cell_type": "code",
      "metadata": {
        "id": "PSf2Rd1bpgus",
        "colab_type": "code",
        "colab": {}
      },
      "source": [
        "#Loading the image to be tested\n",
        "test_image = cv2.imread('/content/babyboy.jpg')\n",
        "#Converting to grayscale\n",
        "test_image_gray = cv2.cvtColor(test_image, cv2.COLOR_BGR2GRAY)\n",
        "# Displaying the grayscale image\n",
        "plt.imshow(test_image_gray, cmap='gray')"
      ],
      "execution_count": 0,
      "outputs": []
    },
    {
      "cell_type": "markdown",
      "metadata": {
        "id": "lFD0or3tp7Yx",
        "colab_type": "text"
      },
      "source": [
        "Since we know that OpenCV loads an image in BGR format, so we need to convert it into RBG format to be able to display its true colors. Let us write a small function for that."
      ]
    },
    {
      "cell_type": "code",
      "metadata": {
        "id": "xfbNfeVYp8j5",
        "colab_type": "code",
        "colab": {}
      },
      "source": [
        "def convertToRGB(image):\n",
        "   return cv2.cvtColor(image, cv2.COLOR_BGR2RGB)"
      ],
      "execution_count": 0,
      "outputs": []
    },
    {
      "cell_type": "markdown",
      "metadata": {
        "id": "J8or2V3Pxj3f",
        "colab_type": "text"
      },
      "source": [
        "**Haar cascade files**\n",
        "\n",
        "OpenCV comes with a lot of pre-trained classifiers"
      ]
    },
    {
      "cell_type": "code",
      "metadata": {
        "id": "XHAGNq-HyGfZ",
        "colab_type": "code",
        "colab": {}
      },
      "source": [
        "haar_cascade_face  = cv2.CascadeClassifier(cv2.data.haarcascades + 'haarcascade_frontalface_default.xml')"
      ],
      "execution_count": 0,
      "outputs": []
    },
    {
      "cell_type": "markdown",
      "metadata": {
        "id": "0SD2cABkykxf",
        "colab_type": "text"
      },
      "source": [
        "**Face detection**\n",
        "\n",
        "\n",
        "We shall be using the **detectMultiscale** module of the classifier. This function will return a rectangle with coordinates(x,y,w,h) around the detected face. This function has two important parameters which have to be tuned according to the data.\n",
        "\n",
        "\n",
        "*   **scalefactor** In a group photo, there may be some faces which are near the camera than others. Naturally, such faces would appear more prominent than the ones behind. This factor compensates for that.\n",
        "\n",
        "\n",
        "*   **minNeighbors** This parameter specifies the number of neighbors a rectangle should have to be called a face. \n",
        "\n"
      ]
    },
    {
      "cell_type": "code",
      "metadata": {
        "id": "AiQ7GD0ozCVV",
        "colab_type": "code",
        "colab": {}
      },
      "source": [
        "faces_rects = haar_cascade_face.detectMultiScale(test_image_gray, scaleFactor = 1.2, minNeighbors = 5);"
      ],
      "execution_count": 0,
      "outputs": []
    },
    {
      "cell_type": "code",
      "metadata": {
        "id": "d2TerfoQza0A",
        "colab_type": "code",
        "colab": {}
      },
      "source": [
        "# Let us print the no. of faces found\n",
        "print('Faces found: ', len(faces_rects))"
      ],
      "execution_count": 0,
      "outputs": []
    },
    {
      "cell_type": "markdown",
      "metadata": {
        "id": "SJaqkmuDzpgG",
        "colab_type": "text"
      },
      "source": [
        "loop over all the coordinates and draw rectangles around them using Open CV"
      ]
    },
    {
      "cell_type": "code",
      "metadata": {
        "id": "TpkDiSQWzuOb",
        "colab_type": "code",
        "colab": {}
      },
      "source": [
        "for (x,y,w,h) in faces_rects:\n",
        "     cv2.rectangle(test_image, (x, y), (x+w, y+h), (0, 255, 0), 2)"
      ],
      "execution_count": 0,
      "outputs": []
    },
    {
      "cell_type": "markdown",
      "metadata": {
        "id": "SVPfxe0ozpcD",
        "colab_type": "text"
      },
      "source": [
        "Finally, we shall display the original image in colored to see if the face has been detected correctly or not."
      ]
    },
    {
      "cell_type": "code",
      "metadata": {
        "id": "GflW41pqz1MG",
        "colab_type": "code",
        "colab": {}
      },
      "source": [
        "#convert image to RGB and show image\n",
        "plt.imshow(convertToRGB(test_image))"
      ],
      "execution_count": 0,
      "outputs": []
    },
    {
      "cell_type": "markdown",
      "metadata": {
        "id": "vMnNsfPG0Tel",
        "colab_type": "text"
      },
      "source": [
        "### Face Detection with generalized function\n"
      ]
    },
    {
      "cell_type": "code",
      "metadata": {
        "id": "IahW1pvR0V2L",
        "colab_type": "code",
        "colab": {}
      },
      "source": [
        "def detect_faces(haar_cascade_face_name, test_image, rect_size = 2, scaleFactor = 1.1, minNeighbors = 5):\n",
        "  #create a copy of an image to prevent the changes on original image\n",
        "  image_copy = test_image.copy()\n",
        "  #convert the test image to gray scale as opencv face detector expects gray images\n",
        "  gray_image = cv2.cvtColor(image_copy, cv2.COLOR_BGR2GRAY)\n",
        "  cascade  = cv2.CascadeClassifier(cv2.data.haarcascades + haar_cascade_face_name)\n",
        "  #applying Haar classifier to detect the face\n",
        "  faces_rect =  cascade.detectMultiScale(gray_image, scaleFactor=scaleFactor, minNeighbors=minNeighbors)\n",
        "  for (x, y, w, h) in faces_rect:\n",
        "        cv2.rectangle(image_copy, (x, y), (x+w, y+h), (0, 255, 0), rect_size)\n",
        "  return image_copy"
      ],
      "execution_count": 0,
      "outputs": []
    },
    {
      "cell_type": "markdown",
      "metadata": {
        "id": "kOMnrI6Q1l3v",
        "colab_type": "text"
      },
      "source": [
        "Now, Testing the function on new image"
      ]
    },
    {
      "cell_type": "code",
      "metadata": {
        "id": "Wcmtmuq-1nzn",
        "colab_type": "code",
        "colab": {}
      },
      "source": [
        "final_gray_image = detect_faces('haarcascade_frontalface_default.xml',cv2.imread('/content/babyboy1.jpg'))\n",
        "plt.imshow(final_gray_image)"
      ],
      "execution_count": 0,
      "outputs": []
    },
    {
      "cell_type": "code",
      "metadata": {
        "id": "r-IpdkaE3Jem",
        "colab_type": "code",
        "colab": {}
      },
      "source": [
        "#with BGR to RGB color\n",
        "plt.imshow(cv2.cvtColor(final_gray_image, cv2.COLOR_BGR2RGB))"
      ],
      "execution_count": 0,
      "outputs": []
    },
    {
      "cell_type": "markdown",
      "metadata": {
        "id": "tCsyPT3K3qLc",
        "colab_type": "text"
      },
      "source": [
        "### Testing the function on a group image"
      ]
    },
    {
      "cell_type": "code",
      "metadata": {
        "id": "TbEOflTb5E_K",
        "colab_type": "code",
        "colab": {}
      },
      "source": [
        "test_image2 = cv2.imread('/content/woman_cricket_team.jpg')\n",
        "faces  = detect_faces('haarcascade_frontalface_alt2.xml',test_image2,1, minNeighbors=0)\n",
        "plt.imshow(cv2.cvtColor(faces, cv2.COLOR_BGR2RGB))"
      ],
      "execution_count": 0,
      "outputs": []
    },
    {
      "cell_type": "markdown",
      "metadata": {
        "id": "_S_C0yGW8soh",
        "colab_type": "text"
      },
      "source": [
        "Note: haarcascade_frontalface_alt2 is working well with minNeighbors = 0\n",
        "Unable to detect the face by using haarcascade_frontalface_default"
      ]
    }
  ]
}