{
  "nbformat": 4,
  "nbformat_minor": 0,
  "metadata": {
    "colab": {
      "name": "Buy and Sell Signal.ipynb",
      "provenance": [],
      "private_outputs": true,
      "collapsed_sections": [],
      "authorship_tag": "ABX9TyOht9J7JqbeDctZmEcXXD/z",
      "include_colab_link": true
    },
    "kernelspec": {
      "name": "python3",
      "display_name": "Python 3"
    }
  },
  "cells": [
    {
      "cell_type": "markdown",
      "metadata": {
        "id": "view-in-github",
        "colab_type": "text"
      },
      "source": [
        "<a href=\"https://colab.research.google.com/github/shyam1234/AIML_RND/blob/master/Buy_and_Sell_Signal.ipynb\" target=\"_parent\"><img src=\"https://colab.research.google.com/assets/colab-badge.svg\" alt=\"Open In Colab\"/></a>"
      ]
    },
    {
      "cell_type": "markdown",
      "metadata": {
        "id": "CwQJfF6_hCLn",
        "colab_type": "text"
      },
      "source": [
        "# Help to predict the buy and sell signal\n",
        "\n"
      ]
    },
    {
      "cell_type": "code",
      "metadata": {
        "id": "QOAa33GphAsx",
        "colab_type": "code",
        "colab": {}
      },
      "source": [
        "#import the lib\n",
        "import pandas as pd\n",
        "import numpy as np\n",
        "import matplotlib.pyplot as plt\n",
        "plt.style.use('fivethirtyeight')"
      ],
      "execution_count": null,
      "outputs": []
    },
    {
      "cell_type": "code",
      "metadata": {
        "id": "mnz6mDXVhyMF",
        "colab_type": "code",
        "colab": {}
      },
      "source": [
        "#load the data\n",
        "from google.colab import files\n",
        "uploaded = files.upload()"
      ],
      "execution_count": null,
      "outputs": []
    },
    {
      "cell_type": "code",
      "metadata": {
        "id": "OFAofq7UiM7m",
        "colab_type": "code",
        "colab": {}
      },
      "source": [
        "#store the data into a df\n",
        "df =  pd.read_csv('BATAINDIA.NS.csv')\n",
        "#set the date to be the index\n",
        "df =df.set_index(pd.DatetimeIndex(df['Date'].values))\n",
        "#show the data\n",
        "df"
      ],
      "execution_count": null,
      "outputs": []
    },
    {
      "cell_type": "code",
      "metadata": {
        "id": "520_a4o6ime0",
        "colab_type": "code",
        "colab": {}
      },
      "source": [
        "#visually show the stock price\n",
        "plt.figure(figsize=(12.2, 4.5))\n",
        "plt.plot(df['Close'], label='Close')\n",
        "plt.xticks(rotation =45)\n",
        "plt.title('Close Price History')\n",
        "plt.xlabel('Date')\n",
        "plt.ylabel('Price')\n",
        "plt.show"
      ],
      "execution_count": null,
      "outputs": []
    },
    {
      "cell_type": "code",
      "metadata": {
        "id": "hY8sC8AHjxOI",
        "colab_type": "code",
        "colab": {}
      },
      "source": [
        "#Calculate the MACF signal line indicators\n",
        "#Cal the short team exponential moving average (EMA)\n",
        "ShortEMA = df.Close.ewm(span=12, adjust=False).mean()\n",
        "\n",
        "#Cal the long term exponential moving average(EMA)\n",
        "LongEMA = df.Close.ewm(span=26, adjust=False).mean()\n",
        "#Cal the MACD line\n",
        "MACD = ShortEMA - LongEMA\n",
        "#Cal the signal line\n",
        "signal = MACD.ewm(span =9, adjust=False).mean()"
      ],
      "execution_count": null,
      "outputs": []
    },
    {
      "cell_type": "code",
      "metadata": {
        "id": "YUFf-9btkv5n",
        "colab_type": "code",
        "colab": {}
      },
      "source": [
        "#plot the chat\n",
        "plt.figure(figsize=(12.2, 4.5))\n",
        "plt.plot(df.index, MACD, label = 'BATAINDIA MACD', color='red')\n",
        "plt.plot(df.index, signal, label = 'Signal Line', color='blue')\n",
        "plt.xticks(rotation = 45)\n",
        "plt.legend(loc='upper left')\n",
        "plt.show()"
      ],
      "execution_count": null,
      "outputs": []
    },
    {
      "cell_type": "code",
      "metadata": {
        "id": "qv2tGaLBl95H",
        "colab_type": "code",
        "colab": {}
      },
      "source": [
        "#Create new colmns for the data\n",
        "df['MACD'] =MACD\n",
        "df['Signal Line'] = signal\n",
        "df"
      ],
      "execution_count": null,
      "outputs": []
    },
    {
      "cell_type": "code",
      "metadata": {
        "id": "WC70eiHxmRXs",
        "colab_type": "code",
        "colab": {}
      },
      "source": [
        "#Create a func to signal when to buy and sell an asset\n",
        "def buy_sell(signal):\n",
        "  Buy = []\n",
        "  Sell = []\n",
        "  flag = -1\n",
        "\n",
        "  for i in range(0, len(signal)):\n",
        "    if signal['MACD'][i] > signal['Signal Line'][i]:\n",
        "      Sell.append(np.nan)\n",
        "      if flag != 1:\n",
        "        Buy.append(signal['Close'][i])\n",
        "        flag = 1\n",
        "      else:\n",
        "        Buy.append(np.nan)\n",
        "    elif signal['MACD'][i] < signal['Signal Line'][i]:\n",
        "       Buy.append(np.nan)\n",
        "       if flag != 0:\n",
        "         Sell.append(signal['Close'][i])\n",
        "         flag = 0\n",
        "       else:\n",
        "         Sell.append(np.nan)\n",
        "    else:\n",
        "      Buy.append(np.nan)\n",
        "      Sell.append(np.nan)\n",
        "  \n",
        "  return (Buy, Sell)\n",
        "  \n",
        "           "
      ],
      "execution_count": null,
      "outputs": []
    },
    {
      "cell_type": "code",
      "metadata": {
        "id": "5KkKfy1tno-l",
        "colab_type": "code",
        "colab": {}
      },
      "source": [
        "#create buy and sell column\n",
        "a =  buy_sell(df)\n",
        "df['Buy_Signal_Price'] = a[0]\n",
        "df['Sell_Signal_Price'] = a[1]\n",
        "df"
      ],
      "execution_count": null,
      "outputs": []
    },
    {
      "cell_type": "code",
      "metadata": {
        "id": "rhhGK2oHn8b5",
        "colab_type": "code",
        "colab": {}
      },
      "source": [
        "#Visually show the stock buy and sell signals\n",
        "plt.figure(figsize=(12.2, 4.5))\n",
        "plt.scatter(df.index, df['Buy_Signal_Price'], color ='green', label ='Buy', marker='^', alpha=1)\n",
        "plt.scatter(df.index, df['Sell_Signal_Price'], color ='red', label ='Sell', marker='$\\u2193$', alpha=1)\n",
        "plt.plot(df['Close'],label='Close Price', alpha =0.35)\n",
        "plt.title('Close Price Bue and Sell Signal')\n",
        "plt.xticks(rotation =45)\n",
        "plt.xlabel('Date')\n",
        "plt.ylabel('Close Price')\n",
        "plt.legend(loc='upper left')\n",
        "plt.show()"
      ],
      "execution_count": null,
      "outputs": []
    }
  ]
}