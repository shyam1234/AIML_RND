{
  "nbformat": 4,
  "nbformat_minor": 0,
  "metadata": {
    "colab": {
      "name": "ComVision-Q2.ipynb",
      "provenance": [],
      "private_outputs": true,
      "collapsed_sections": [],
      "include_colab_link": true
    },
    "kernelspec": {
      "name": "python3",
      "display_name": "Python 3"
    }
  },
  "cells": [
    {
      "cell_type": "markdown",
      "metadata": {
        "id": "view-in-github",
        "colab_type": "text"
      },
      "source": [
        "<a href=\"https://colab.research.google.com/github/shyam1234/AIML_RND/blob/master/ComVision_Q2.ipynb\" target=\"_parent\"><img src=\"https://colab.research.google.com/assets/colab-badge.svg\" alt=\"Open In Colab\"/></a>"
      ]
    },
    {
      "cell_type": "markdown",
      "metadata": {
        "id": "W3lKbDzRXRu8",
        "colab_type": "text"
      },
      "source": [
        "# Data Scientist (Vision) solve Q2.ipynb"
      ]
    },
    {
      "cell_type": "markdown",
      "metadata": {
        "id": "KDpG1SdhYp6s",
        "colab_type": "text"
      },
      "source": [
        "Name: Prafulla Malviya\n",
        "Email: malviya.software@gmail.com\n",
        "Contact: 8904188389\n",
        "\n",
        "---\n",
        "\n"
      ]
    },
    {
      "cell_type": "markdown",
      "metadata": {
        "id": "nKIeCQ0fYYHI",
        "colab_type": "text"
      },
      "source": [
        "## **Multi-Class Image Classification**\n",
        "**Problem Details**:\n",
        "You have to perform Multi-Class Image Classfication on the given data.\n",
        "There are 10 classes in the dataset.\n",
        "Download the dataset from here.\n",
        "To know more about the dataset, check out this link.\n",
        "\n",
        "**Bonus**:\n",
        "Perform image detection and recognition from a live url.\n",
        "\n",
        "The script in available in the folder. \"face_detector_live_video.py\".\n",
        "\n",
        "Or you can develop frame from the video and run the model on it."
      ]
    },
    {
      "cell_type": "markdown",
      "metadata": {
        "id": "lMAkh9uwXWje",
        "colab_type": "text"
      },
      "source": [
        "## **Strategy**\n",
        "1.   Import the require packages\n",
        "2.   Configure the pretrained model and youtube URL \n",
        "2.   Load the pretrained model\n",
        "3.   Try to fit with base model\n",
        "4.   Detect the object based on frame drived from the given video\n",
        "5.   Draw the rectangle along with label name over detected object face\n",
        "\n"
      ]
    },
    {
      "cell_type": "markdown",
      "metadata": {
        "id": "E27QCZfIa5hF",
        "colab_type": "text"
      },
      "source": [
        "### **1. Import the require packages**"
      ]
    },
    {
      "cell_type": "code",
      "metadata": {
        "id": "vsMNqX8gYDc3",
        "colab_type": "code",
        "colab": {}
      },
      "source": [
        "from keras.models import load_model\n",
        "from keras.datasets import cifar10\n",
        "import imutils\n",
        "from imutils import paths\n",
        "import numpy as np # for mathematical operations\n",
        "import argparse  #The argparse module makes it easy to write user-friendly command-line interfaces\n",
        "import cv2  # for capturing videos\n",
        "\n",
        "import matplotlib.pyplot as plt   # for plotting the images\n",
        "from matplotlib import cm\n",
        "%matplotlib inline"
      ],
      "execution_count": 0,
      "outputs": []
    },
    {
      "cell_type": "code",
      "metadata": {
        "id": "Nx2ttFMzaoRm",
        "colab_type": "code",
        "colab": {}
      },
      "source": [
        "!pip install pafy "
      ],
      "execution_count": 0,
      "outputs": []
    },
    {
      "cell_type": "code",
      "metadata": {
        "id": "cYrM1QNaav5o",
        "colab_type": "code",
        "colab": {}
      },
      "source": [
        "!pip install youtube_dl"
      ],
      "execution_count": 0,
      "outputs": []
    },
    {
      "cell_type": "code",
      "metadata": {
        "id": "u-CjfihLaruP",
        "colab_type": "code",
        "colab": {}
      },
      "source": [
        "import pafy "
      ],
      "execution_count": 0,
      "outputs": []
    },
    {
      "cell_type": "code",
      "metadata": {
        "id": "LuI1qIG-dVVC",
        "colab_type": "code",
        "colab": {}
      },
      "source": [
        "from google.colab import drive\n",
        "drive.mount('/content/drive')"
      ],
      "execution_count": 0,
      "outputs": []
    },
    {
      "cell_type": "markdown",
      "metadata": {
        "id": "2zVHl5FEbEdc",
        "colab_type": "text"
      },
      "source": [
        "\n",
        "### **2. Configure the pretrained model and youtube URL**"
      ]
    },
    {
      "cell_type": "code",
      "metadata": {
        "id": "DBHq7CsebKko",
        "colab_type": "code",
        "colab": {}
      },
      "source": [
        "#URL = 'https://www.youtube.com/watch?v=_Yh8Nx7mnaU'\n",
        "URL = 'https://www.youtube.com/watch?v=T1jXlNSWVOM&feature=youtu.be'\n",
        "PRETRAINNED_MODEL = '/content/drive/My Drive/pretrainned_model/cifar10_ResNet20v1_model.092.h5'\n",
        "NO_OF_FRAME = 5"
      ],
      "execution_count": 0,
      "outputs": []
    },
    {
      "cell_type": "code",
      "metadata": {
        "id": "lyyDccswuBOe",
        "colab_type": "code",
        "colab": {}
      },
      "source": [
        "vPafy = pafy.new(URL)\n",
        "play = vPafy.getbest()"
      ],
      "execution_count": 0,
      "outputs": []
    },
    {
      "cell_type": "markdown",
      "metadata": {
        "id": "nt3BZ-rZfm4t",
        "colab_type": "text"
      },
      "source": [
        "### **3. Load the pretrained model**"
      ]
    },
    {
      "cell_type": "code",
      "metadata": {
        "id": "mgABnNK4l3xE",
        "colab_type": "code",
        "colab": {}
      },
      "source": [
        "# cifar10 category label name\n",
        "cifar10_labels = np.array([\n",
        "    'airplane',\n",
        "    'automobile',\n",
        "    'bird',\n",
        "    'cat',\n",
        "    'deer',\n",
        "    'dog',\n",
        "    'frog',\n",
        "    'horse',\n",
        "    'ship',\n",
        "    'truck'])"
      ],
      "execution_count": 0,
      "outputs": []
    },
    {
      "cell_type": "code",
      "metadata": {
        "id": "ZW04GOQhl83e",
        "colab_type": "code",
        "colab": {}
      },
      "source": [
        "# use ResNet\n",
        "model = load_model(PRETRAINNED_MODEL)"
      ],
      "execution_count": 0,
      "outputs": []
    },
    {
      "cell_type": "code",
      "metadata": {
        "id": "7vjuf6gmmtvY",
        "colab_type": "code",
        "colab": {}
      },
      "source": [
        "model.summary()"
      ],
      "execution_count": 0,
      "outputs": []
    },
    {
      "cell_type": "markdown",
      "metadata": {
        "id": "yTnJc9oim3pm",
        "colab_type": "text"
      },
      "source": [
        "### **Detect the object based on frame drived from the given video**"
      ]
    },
    {
      "cell_type": "code",
      "metadata": {
        "id": "bNwld2erzpF2",
        "colab_type": "code",
        "colab": {}
      },
      "source": [
        "def resizeVideoFrame(frame,w,h):\n",
        "  X = []\n",
        "  image = []\n",
        "  X.append(frame) \n",
        "  X = np.array(X)\n",
        "  for i in range(0,X.shape[0]):\n",
        "    a = resize(X[i], preserve_range=True, output_shape=(w,h)).astype('float32')      # reshaping to w*h*3\n",
        "    image.append(a)\n",
        "  X = np.array(image)\n",
        "  print(\"Resized image \",X.shape)\n",
        "  img = X.astype('float32')\n",
        "  img /= 255\n",
        "  c = np.zeros(w*h*3).reshape((1,w,h,3))\n",
        "  c[0] = img\n",
        "  return c"
      ],
      "execution_count": 0,
      "outputs": []
    },
    {
      "cell_type": "code",
      "metadata": {
        "id": "StHyny1anKS8",
        "colab_type": "code",
        "colab": {}
      },
      "source": [
        "#identify the label\n",
        "def identifyLabel(frame):\n",
        "  print('Orignal frame size', frame.shape)\n",
        "  test_image = resizeVideoFrame(frame,32,32)\n",
        "  #Generates output predictions for the input samples.\n",
        "  ret = model.predict(test_image, batch_size=1)\n",
        "  #print ('ret',ret)\n",
        "  return ret"
      ],
      "execution_count": 0,
      "outputs": []
    },
    {
      "cell_type": "code",
      "metadata": {
        "id": "br2M1a6y_7Bi",
        "colab_type": "code",
        "colab": {}
      },
      "source": [
        " #plt the image and label\n",
        " def drawRectOnFrame(image, predicted_val):\n",
        "  plt.subplot(1, 1, 1)\n",
        "  plt.imshow(image)\n",
        "  plt.axis('off')\n",
        "  bestnum = 0.0\n",
        "  bestclass = 0\n",
        "  #find the max % out of all defined classes (0-9)\n",
        "  for n in [0,1,2,3,4,5,6,7,8,9]:\n",
        "    if bestnum < predicted_val[0][n]:\n",
        "      bestnum = predicted_val[0][n]\n",
        "      bestclass = n\n",
        "\n",
        "  plt.title(cifar10_labels[bestclass])\n",
        "  plt.show()\n",
        "  print ('-------------------------------')\n",
        " "
      ],
      "execution_count": 0,
      "outputs": []
    },
    {
      "cell_type": "code",
      "metadata": {
        "id": "KV3JNFgAsWhx",
        "colab_type": "code",
        "colab": {}
      },
      "source": [
        "#For recognize label based on FIFAR-10 trainned model\n",
        "def do_video_face_recognition():\n",
        "  count = 0\n",
        "  face_locations = []\n",
        "  cap = cv2.VideoCapture(play.url)\n",
        "  frameRate = cap.get(NO_OF_FRAME)  # frame \n",
        "  while cap.isOpened():\n",
        "    filename = \"frame_%d.jpg\" % count\n",
        "    count += 1\n",
        "    frameId = cap.get(1)  # current frame number\n",
        "    ret, frame = cap.read()\n",
        "    if ret is not True:\n",
        "      break\n",
        "    if frameId % math.floor(frameRate) == 0:\n",
        "      print('frame', frame.shape)\n",
        "      predicted_val = identifyLabel(frame)\n",
        "      print(filename, predicted_val)\n",
        "      drawRectOnFrame(frame,predicted_val)\n",
        "  \n",
        "  cap.release()\n",
        "  cv2.destroyAllWindows()"
      ],
      "execution_count": 0,
      "outputs": []
    },
    {
      "cell_type": "code",
      "metadata": {
        "id": "jiexbJ4enTv0",
        "colab_type": "code",
        "colab": {}
      },
      "source": [
        "do_video_face_recognition()"
      ],
      "execution_count": 0,
      "outputs": []
    }
  ]
}