{
  "nbformat": 4,
  "nbformat_minor": 0,
  "metadata": {
    "colab": {
      "name": "Stock Prices Prediction.ipynb",
      "provenance": [],
      "private_outputs": true,
      "collapsed_sections": [],
      "authorship_tag": "ABX9TyMNbYiGucsrTDGTa+/pDEB5",
      "include_colab_link": true
    },
    "kernelspec": {
      "name": "python3",
      "display_name": "Python 3"
    }
  },
  "cells": [
    {
      "cell_type": "markdown",
      "metadata": {
        "id": "view-in-github",
        "colab_type": "text"
      },
      "source": [
        "<a href=\"https://colab.research.google.com/github/shyam1234/AIML_RND/blob/master/Stock_Prices_Prediction.ipynb\" target=\"_parent\"><img src=\"https://colab.research.google.com/assets/colab-badge.svg\" alt=\"Open In Colab\"/></a>"
      ]
    },
    {
      "cell_type": "markdown",
      "metadata": {
        "id": "kxd-W14tdlzm",
        "colab_type": "text"
      },
      "source": [
        "# Predict Stock Prices Using Machine Learning & Python"
      ]
    },
    {
      "cell_type": "markdown",
      "metadata": {
        "id": "CZS5HsKfd3uu",
        "colab_type": "text"
      },
      "source": [
        "https://medium.com/@randerson112358/predict-stock-prices-using-machine-learning-python-f554b7167b36"
      ]
    },
    {
      "cell_type": "code",
      "metadata": {
        "id": "E5afjUald0so",
        "colab_type": "code",
        "colab": {}
      },
      "source": [
        "#Install the dependencies\n",
        "import numpy as np\n",
        "import pandas as pd\n",
        "from sklearn.tree import DecisionTreeRegressor\n",
        "from sklearn.linear_model import LinearRegression\n",
        "from sklearn.model_selection import train_test_split\n",
        "import matplotlib.pyplot as plt\n",
        "plt.style.use('bmh')"
      ],
      "execution_count": null,
      "outputs": []
    },
    {
      "cell_type": "code",
      "metadata": {
        "id": "mYs2WoGaeF6r",
        "colab_type": "code",
        "colab": {}
      },
      "source": [
        "#df = pd.read_csv('/content/sample_data/aapl.csv')\n",
        "df = pd.read_csv('/content/BATAINDIA.NS.csv')\n",
        "df.dropna(inplace=True)\n",
        "df.head(6)"
      ],
      "execution_count": null,
      "outputs": []
    },
    {
      "cell_type": "code",
      "metadata": {
        "id": "llrCJAArocUh",
        "colab_type": "code",
        "colab": {}
      },
      "source": [
        "df.size"
      ],
      "execution_count": null,
      "outputs": []
    },
    {
      "cell_type": "code",
      "metadata": {
        "id": "Mi84pBY6eno3",
        "colab_type": "code",
        "colab": {}
      },
      "source": [
        "plt.figure(figsize=(16,8))\n",
        "plt.title('Bata', fontsize = 18)\n",
        "plt.xlabel('Days', fontsize= 18)\n",
        "plt.ylabel('Close Price USD ($)', fontsize = 18)\n",
        "plt.plot(df['Close'])\n",
        "plt.show()"
      ],
      "execution_count": null,
      "outputs": []
    },
    {
      "cell_type": "code",
      "metadata": {
        "id": "cRMtetKOeoog",
        "colab_type": "code",
        "colab": {}
      },
      "source": [
        "df = df[['Close']]\n",
        "df.head(4)"
      ],
      "execution_count": null,
      "outputs": []
    },
    {
      "cell_type": "code",
      "metadata": {
        "id": "pPSBsKrifm_G",
        "colab_type": "code",
        "colab": {}
      },
      "source": [
        "#Create a variable to predict 'x' days out into the future\n",
        "future_days = 225\n",
        "#Create a new column (the target or dependent variable) shifted 'x' units/days up\n",
        "df['Prediction'] = df[['Close']].shift(-future_days)\n",
        "#print the data\n",
        "df.tail(4)"
      ],
      "execution_count": null,
      "outputs": []
    },
    {
      "cell_type": "code",
      "metadata": {
        "id": "d4j03JzWkqLY",
        "colab_type": "code",
        "colab": {}
      },
      "source": [
        "df.head(6)"
      ],
      "execution_count": null,
      "outputs": []
    },
    {
      "cell_type": "code",
      "metadata": {
        "id": "IxdYjMH-fuBv",
        "colab_type": "code",
        "colab": {}
      },
      "source": [
        "X = np.array(df.drop(['Prediction'], 1))[:-future_days]\n",
        "print(X)"
      ],
      "execution_count": null,
      "outputs": []
    },
    {
      "cell_type": "code",
      "metadata": {
        "id": "Ifg8FIPIf4xl",
        "colab_type": "code",
        "colab": {}
      },
      "source": [
        "y = np.array(df['Prediction'])[:-future_days]\n",
        "print(y)"
      ],
      "execution_count": null,
      "outputs": []
    },
    {
      "cell_type": "code",
      "metadata": {
        "id": "BjcYwllRf8Sy",
        "colab_type": "code",
        "colab": {}
      },
      "source": [
        "x_train, x_test, y_train, y_test = train_test_split(X, y, test_size = 0.25)"
      ],
      "execution_count": null,
      "outputs": []
    },
    {
      "cell_type": "markdown",
      "metadata": {
        "id": "Gc2cFBrrmksi",
        "colab_type": "text"
      },
      "source": [
        "Time to create the models. "
      ]
    },
    {
      "cell_type": "code",
      "metadata": {
        "id": "BdXCDB47f_Mp",
        "colab_type": "code",
        "colab": {}
      },
      "source": [
        "#Create the decision tree regressor model\n",
        "tree = DecisionTreeRegressor().fit(x_train, y_train)\n",
        "#Create the linear regression model\n",
        "lr = LinearRegression().fit(x_train, y_train)"
      ],
      "execution_count": null,
      "outputs": []
    },
    {
      "cell_type": "code",
      "metadata": {
        "id": "5BhvZQ5OgBuE",
        "colab_type": "code",
        "colab": {}
      },
      "source": [
        "#Get the feature data, \n",
        "#AKA all the rows from the original data set except the last 'x' days\n",
        "x_future = df.drop(['Prediction'], 1)[:-future_days]\n",
        "#Get the last 'x' rows\n",
        "x_future = x_future.tail(future_days) \n",
        "#Convert the data set into a numpy array\n",
        "x_future = np.array(x_future)\n",
        "x_future"
      ],
      "execution_count": null,
      "outputs": []
    },
    {
      "cell_type": "code",
      "metadata": {
        "id": "LinrzCsrgFPS",
        "colab_type": "code",
        "colab": {}
      },
      "source": [
        "#Show the model tree prediction\n",
        "tree_prediction = tree.predict(x_future)\n",
        "print( tree_prediction )\n",
        "print()\n",
        "#Show the model linear regression prediction\n",
        "lr_prediction = lr.predict(x_future)\n",
        "print(lr_prediction)"
      ],
      "execution_count": null,
      "outputs": []
    },
    {
      "cell_type": "code",
      "metadata": {
        "id": "DBdIU9wTgIhE",
        "colab_type": "code",
        "colab": {}
      },
      "source": [
        "#Visualize and compare the predicted values with the actual or valid values.\n",
        "#Visualize the data\n",
        "predictions = tree_prediction\n",
        "#Plot the data\n",
        "valid =  df[X.shape[0]:]\n",
        "valid['Predictions'] = predictions #Create a new column called 'Predictions' that will hold the predicted prices\n",
        "plt.figure(figsize=(16,8))\n",
        "plt.title('Model')\n",
        "plt.xlabel('Days',fontsize=18)\n",
        "plt.ylabel('Close Price USD ($)',fontsize=18)\n",
        "plt.plot(df['Close'])\n",
        "plt.plot(valid[['Close','Predictions']])\n",
        "plt.legend(['Train', 'Val', 'Prediction' ], loc='lower right')\n",
        "plt.show()"
      ],
      "execution_count": null,
      "outputs": []
    },
    {
      "cell_type": "code",
      "metadata": {
        "id": "pAA9JTtugOWY",
        "colab_type": "code",
        "colab": {}
      },
      "source": [
        "#Visualize the data\n",
        "predictions = lr_prediction\n",
        "#Plot the data\n",
        "valid =  df[X.shape[0]:]\n",
        "valid['Predictions'] = predictions #Create a new column called 'Predictions' that will hold the predicted prices\n",
        "plt.figure(figsize=(16,8))\n",
        "plt.title('Model')\n",
        "plt.xlabel('Days',fontsize=18)\n",
        "plt.ylabel('Close Price USD ($)',fontsize=18)\n",
        "plt.plot(df['Close'])\n",
        "plt.plot(valid[['Close','Predictions']])\n",
        "plt.legend(['Train', 'Val', 'Prediction' ], loc='lower right')\n",
        "plt.show()"
      ],
      "execution_count": null,
      "outputs": []
    }
  ]
}