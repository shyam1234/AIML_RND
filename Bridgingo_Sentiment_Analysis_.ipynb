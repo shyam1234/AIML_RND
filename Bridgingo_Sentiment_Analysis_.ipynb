{
  "nbformat": 4,
  "nbformat_minor": 0,
  "metadata": {
    "colab": {
      "name": "Bridgingo Sentiment Analysis .ipynb",
      "provenance": [],
      "collapsed_sections": [],
      "authorship_tag": "ABX9TyOEv1lNr5iCshJwXvAUp5LL",
      "include_colab_link": true
    },
    "kernelspec": {
      "name": "python3",
      "display_name": "Python 3"
    },
    "accelerator": "TPU"
  },
  "cells": [
    {
      "cell_type": "markdown",
      "metadata": {
        "id": "view-in-github",
        "colab_type": "text"
      },
      "source": [
        "<a href=\"https://colab.research.google.com/github/shyam1234/AIML_RND/blob/master/Bridgingo_Sentiment_Analysis_.ipynb\" target=\"_parent\"><img src=\"https://colab.research.google.com/assets/colab-badge.svg\" alt=\"Open In Colab\"/></a>"
      ]
    },
    {
      "cell_type": "markdown",
      "metadata": {
        "id": "DuJRkwuSdklx",
        "colab_type": "text"
      },
      "source": [
        "# **Bridgingo Sentiment Analysis**  \n",
        "This is for demonstrating the Sentiment analysis based on the live twitter feed.\n",
        "###### Auther : Prafulla Malviya (AIML Energetic)"
      ]
    },
    {
      "cell_type": "markdown",
      "metadata": {
        "id": "9hGbUjL7dwel",
        "colab_type": "text"
      },
      "source": [
        "##**Agenda**\n",
        "\n",
        "\n",
        "1.   NLP (Natural Language Processing)\n",
        "2.   Sentiment Analysis\n",
        "3.   Connect Twitter with Collab\n",
        "4.   Tweets Preprocessing and Cleaning\n",
        "5.   Visualization from Tweets \n",
        "\n"
      ]
    },
    {
      "cell_type": "markdown",
      "metadata": {
        "id": "SZA7MziOkfEK",
        "colab_type": "text"
      },
      "source": [
        "###1. **Natural Language Processing**\n",
        "Simple Defination: NLP is a field in machine learning with the ability of a computer to understand, analyze, manipulate, and potentially generate human language.\n",
        "\n",
        "####**NLP in Real Life** \n",
        "\n",
        "\n",
        "*   Information Retrieval(Google finds relevant and similar results).\n",
        "* Information Extraction(Gmail structures events from emails).\n",
        "* Machine Translation(Google Translate translates language from one language to another).\n",
        "* Text Simplification(Rewordify simplifies the meaning of sentences). Shashi * * Tharoor tweets could be used(pun intended).\n",
        "* Sentiment Analysis(Hater News gives us the sentiment of the user).\n",
        "* Text Summarization(Smmry or Reddit’s autotldr gives a summary of sentences).\n",
        "* Spam Filter(Gmail filters spam emails separately).\n",
        "* Auto-Predict(Google Search predicts user search results).\n",
        "* Auto-Correct(Google Keyboard and Grammarly correct words otherwise spelled wrong).\n",
        "* Speech Recognition(Google WebSpeech or Vocalware).\n",
        "* Question Answering(IBM Watson’s answers to a query).\n",
        "* Natural Language Generation(Generation of text from image or video data.)\n",
        "\n",
        "\n"
      ]
    },
    {
      "cell_type": "markdown",
      "metadata": {
        "id": "yRXfHA4Klk2_",
        "colab_type": "text"
      },
      "source": [
        "(Natural Language Toolkit)NLTK: NLTK is a popular open-source package in Python. Rather than building all tools from scratch, NLTK provides all common NLP Tasks."
      ]
    },
    {
      "cell_type": "markdown",
      "metadata": {
        "id": "WFhUPXYWd6i0",
        "colab_type": "text"
      },
      "source": [
        "###2. **Sentiment Analysis** \n",
        "the process of computationally identifying and categorizing opinions expressed in a piece of text, especially in order to determine whether the writer’s attitude towards a particular topic, product, etc. is positive, negative, or neutral. **-Oxford dictionary**\n"
      ]
    },
    {
      "cell_type": "markdown",
      "metadata": {
        "id": "I0-EgmKjeQWq",
        "colab_type": "text"
      },
      "source": [
        "There are many methods and algorithms to implement sentiment analysis systems, which can be classified as:\n",
        "\n",
        "\n",
        "*   **Rule-based** systems that perform sentiment analysis based on a set of manually crafted rules.\n",
        "*   **Automatic systems** that rely on machine learning techniques to learn from data.\n",
        "*   **Hybrid systems** that combine both rule based and automatic approaches.\n",
        "\n"
      ]
    },
    {
      "cell_type": "markdown",
      "metadata": {
        "id": "7IOttatkrVcF",
        "colab_type": "text"
      },
      "source": [
        "There are mainly two approaches for performing sentiment analysis (Defined by University of Victoria)\n",
        "\n",
        "1.   **Lexicon based**: count number of positive and negative words in given text and the larger count will be the sentiment of text\n",
        "2.   **Machine learning based approach**: Develop a classification model, which is trained using the pre-labeled dataset of positive, negative, and neutral\n",
        "\n"
      ]
    },
    {
      "cell_type": "markdown",
      "metadata": {
        "id": "9FNBxC2qe3PE",
        "colab_type": "text"
      },
      "source": [
        "### Create the Twitter application for getting live tweet "
      ]
    },
    {
      "cell_type": "markdown",
      "metadata": {
        "id": "4hOYfZrpfPa1",
        "colab_type": "text"
      },
      "source": [
        "A. Go to \"https://developer.twitter.com\" for creating the Twitter application \n",
        "B. Then go to \"Keys and tokens\" and then copy the **API key**, **Access token, Access token secret** and **API secret key**\n"
      ]
    },
    {
      "cell_type": "markdown",
      "metadata": {
        "id": "m4dwcYTxhhDm",
        "colab_type": "text"
      },
      "source": [
        "### Lets code now"
      ]
    },
    {
      "cell_type": "code",
      "metadata": {
        "id": "qASDEoZ5hr_z",
        "colab_type": "code",
        "colab": {}
      },
      "source": [
        "#Import the libraries \n",
        "import tweepy\n",
        "from textblob import TextBlob\n",
        "from wordcloud import WordCloud\n",
        "import pandas as pd\n",
        "import numpy as np\n",
        "import re\n",
        "import matplotlib.pyplot as plt\n",
        "plt.style.use('fivethirtyeight')"
      ],
      "execution_count": 0,
      "outputs": []
    },
    {
      "cell_type": "markdown",
      "metadata": {
        "id": "mF_mqhR6oJVQ",
        "colab_type": "text"
      },
      "source": [
        "#### **What is tweepy?**\n",
        "An easy-to-use Python library for accessing the Twitter API. It is great for simple automation and creating twitter bots."
      ]
    },
    {
      "cell_type": "markdown",
      "metadata": {
        "id": "wis2KdGznmVr",
        "colab_type": "text"
      },
      "source": [
        "##### **What is TextBlob?**\n",
        "TextBlob is a python library and offers a simple API to access its methods and perform basic NLP tasks. It is  for processing textual data. It provides a simple API for diving into common natural language processing (NLP) tasks such as part-of-speech tagging, noun phrase extraction, sentiment analysis, classification, translation, and more."
      ]
    },
    {
      "cell_type": "markdown",
      "metadata": {
        "id": "Y4GuehzTpZhX",
        "colab_type": "text"
      },
      "source": [
        "#### **What is WordCloud?**\n",
        "Word Cloud is a data visualization technique used for representing text data in which the size of each word indicates its frequency or importance. Significant textual data points can be highlighted using a word cloud."
      ]
    },
    {
      "cell_type": "markdown",
      "metadata": {
        "id": "o7dYPXsKpl73",
        "colab_type": "text"
      },
      "source": [
        "#### **What is Pandas?**\n",
        "Pandas is one of the most widely used python libraries in data science. It provides high-performance, easy to use structures and data analysis tools. Pandas uses for Dataframe to manipulate."
      ]
    },
    {
      "cell_type": "markdown",
      "metadata": {
        "id": "L_mTx2rAp27P",
        "colab_type": "text"
      },
      "source": [
        "#### **What is Matplotlib?**\n",
        "In short: Matplotlib is used for visualizing the data.\n",
        "\n",
        "Matplotlib is a plotting library for the Python programming language and its numerical mathematics extension NumPy."
      ]
    },
    {
      "cell_type": "markdown",
      "metadata": {
        "id": "tp1t85DdqCE5",
        "colab_type": "text"
      },
      "source": [
        "#### **What is Polarity?**\n",
        "It defines the **emotions** expressed in a sentence between **-1 to 1**. \n",
        "\n",
        "1.   negative value shows negative emotion\n",
        "2.   0 value shows neutral \n",
        "3.   positive value shows positive emotion\n",
        "\n",
        "Example\n",
        "1.   I want to thank our Indians to support us to fight against coronavirus virus.  (Positive)\n",
        "2.   We should fight with enemies. (Negative)\n",
        "3.   We think to support other country some other time. (Seems Neutral)  \n",
        "\n"
      ]
    },
    {
      "cell_type": "markdown",
      "metadata": {
        "id": "oJMlyVqmuHmD",
        "colab_type": "text"
      },
      "source": [
        "#### **What is Subjectivity?**\n",
        "It identifies **subjective** and **objective** sentence between **0 to 1**. \n",
        "\n",
        "Subjective sentences generally refer to personal opinion, emotion or judgment whereas objective refers to factual information.\n",
        "\n",
        "Example\n",
        "1.   THANK YOU TEXAS  (Subjective)\n",
        "2.   I am pleased to announce that Congressman Mark will become White House Chief of Staff (Objective)"
      ]
    },
    {
      "cell_type": "code",
      "metadata": {
        "id": "wd8xdi-ditJf",
        "colab_type": "code",
        "colab": {}
      },
      "source": [
        "#Load the twitter application credential\n",
        "from google.colab import files\n",
        "uploaded = files.upload()"
      ],
      "execution_count": 0,
      "outputs": []
    },
    {
      "cell_type": "code",
      "metadata": {
        "id": "FfZ1amHvkgcu",
        "colab_type": "code",
        "colab": {}
      },
      "source": [
        "# Get the data\n",
        "log = pd.read_csv('login.csv')"
      ],
      "execution_count": 0,
      "outputs": []
    },
    {
      "cell_type": "code",
      "metadata": {
        "id": "l5Pb6S4XmNAJ",
        "colab_type": "code",
        "colab": {}
      },
      "source": [
        "log"
      ],
      "execution_count": 0,
      "outputs": []
    },
    {
      "cell_type": "markdown",
      "metadata": {
        "id": "YYFjA9VpmaB9",
        "colab_type": "text"
      },
      "source": [
        "###3.**Connect Twitter with Collab** "
      ]
    },
    {
      "cell_type": "code",
      "metadata": {
        "id": "TCEyKM5Ekr-X",
        "colab_type": "code",
        "colab": {}
      },
      "source": [
        "# Twitter API credentials\n",
        "consumerKey = log['value'][0]\n",
        "consumerSecret = log['value'][1]\n",
        "accessToken = log['value'][2]\n",
        "accessTokenSecret = log['value'][3] "
      ],
      "execution_count": 0,
      "outputs": []
    },
    {
      "cell_type": "code",
      "metadata": {
        "id": "RprNiXiilKAa",
        "colab_type": "code",
        "colab": {}
      },
      "source": [
        "# Create the authentication object\n",
        "authenticate =  tweepy.OAuthHandler(consumerKey, consumerSecret)\n",
        "\n",
        "# Set the access token and access token secret\n",
        "authenticate.set_access_token(accessToken, accessTokenSecret)\n",
        "\n",
        "# Create the API object while passing in the auth information\n",
        "api = tweepy.API(authenticate, wait_on_rate_limit= True)"
      ],
      "execution_count": 0,
      "outputs": []
    },
    {
      "cell_type": "code",
      "metadata": {
        "id": "EbKY2gVRoyYJ",
        "colab_type": "code",
        "colab": {}
      },
      "source": [
        "authenticate.access_token"
      ],
      "execution_count": 0,
      "outputs": []
    },
    {
      "cell_type": "code",
      "metadata": {
        "id": "IbLlw2iBnGLG",
        "colab_type": "code",
        "colab": {}
      },
      "source": [
        "# Extract 100 tweets from the twitter user\n",
        "posts = api.user_timeline(screen_name=\"realDonaldTrump\", count = 100, lang= \"en\", tweet_mode= \"extended\")\n",
        "\n",
        "# Print the last five tweets from the account\n",
        "print(\"/* Show the last five recent tweets */ \\n\")\n",
        "i = 1\n",
        "for tweet in posts[0:5]:\n",
        "  print(str(i)+')'+tweet.full_text +'\\n')\n",
        "  i = i+1"
      ],
      "execution_count": 0,
      "outputs": []
    },
    {
      "cell_type": "code",
      "metadata": {
        "id": "LWIhY2aXqChU",
        "colab_type": "code",
        "colab": {}
      },
      "source": [
        "# Create the dataframe with a column called Tweets\n",
        "df =  pd.DataFrame([tweet.full_text for tweet in posts], columns=['Tweets'])\n",
        "\n",
        "# Show the first 5 rows of data\n",
        "df.head()"
      ],
      "execution_count": 0,
      "outputs": []
    },
    {
      "cell_type": "markdown",
      "metadata": {
        "id": "HASzbRCfmxww",
        "colab_type": "text"
      },
      "source": [
        "###4. **Tweets Preprocessing and Cleaning**"
      ]
    },
    {
      "cell_type": "code",
      "metadata": {
        "id": "8Vbbi63Tqpel",
        "colab_type": "code",
        "colab": {}
      },
      "source": [
        "# Clean the tweets. Try to remove the unwanted things from the tweets\n",
        "# Create the function to clean the tweets\n",
        "def cleanTxt(text):\n",
        "  text = re.sub(r'@[A-Za-z0-9]+', '', text) # Removed @mentions\n",
        "  text = re.sub(r'#','',text) #Removed the '#'\n",
        "  text = re.sub(r'#','',text) #Removed the '#'\n",
        "  text = re.sub(r'RT[\\s]+','',text) # Removed RT\n",
        "  #text = re.sub(r'https?:\\/\\/\\/S+','',text) #Remove the hyperlink\n",
        "  text = re.sub(r'^https?:\\/\\/.*[\\r\\n]*', '', text, flags=re.MULTILINE) #Remove the hyperlink\n",
        "  text = re.sub(r'^http?:\\/\\/.*[\\r\\n]*', '', text, flags=re.MULTILINE) #Remove the hyperlink\n",
        "  text = re.sub(r\"http\\S+\", \"\", text)\n",
        "\n",
        "  return text\n",
        "\n",
        "#Clean the text\n",
        "df['Tweets'] = df['Tweets'].apply(cleanTxt)\n",
        "#Show the cleaned text\n",
        "df"
      ],
      "execution_count": 0,
      "outputs": []
    },
    {
      "cell_type": "markdown",
      "metadata": {
        "id": "tQ65OpSqYPqw",
        "colab_type": "text"
      },
      "source": [
        "The sentiment function of textblob returns two properties, **polarity**, and **subjectivity**.\n",
        "\n",
        "**Polarity** is float which lies in the range of [-1,1] where 1 means positive statement and -1 means a negative statement. \n",
        "\n",
        "**Subjective** sentences generally refer to personal opinion, emotion or judgment whereas objective refers to factual information. Subjectivity is also a float which lies in the range of [0,1]\n"
      ]
    },
    {
      "cell_type": "code",
      "metadata": {
        "id": "wD_VxVMislm9",
        "colab_type": "code",
        "colab": {}
      },
      "source": [
        "# Create the function to get the subjectivity\n",
        "def getSubjectivity(text):\n",
        "  return TextBlob(text).sentiment.subjectivity\n",
        "\n",
        "# Create the function to get the polarity\n",
        "def getPolarity(text):\n",
        "  return TextBlob(text).sentiment.polarity\n",
        "\n",
        "# Create two new columns\n",
        "df['Sunjectivity'] = df['Tweets'].apply(getSubjectivity)\n",
        "df['Polarity'] = df['Tweets'].apply(getPolarity)\n",
        "\n",
        "#Show the new dataframe with new added column\n",
        "df"
      ],
      "execution_count": 0,
      "outputs": []
    },
    {
      "cell_type": "code",
      "metadata": {
        "id": "-gNduxmVtoH_",
        "colab_type": "code",
        "colab": {}
      },
      "source": [
        "# Plot Word Cloud\n",
        "allWords =  ' '.join([twts for twts in df['Tweets']])\n",
        "wordCloud = WordCloud( width = 500, height  =300 , random_state = 21, max_font_size = 119).generate(allWords)\n",
        "\n",
        "plt.imshow(wordCloud, interpolation = 'bilinear')\n",
        "plt.axis('off')\n",
        "plt.show()"
      ],
      "execution_count": 0,
      "outputs": []
    },
    {
      "cell_type": "code",
      "metadata": {
        "id": "SeohSG5lveUc",
        "colab_type": "code",
        "colab": {}
      },
      "source": [
        "# Create the function to compute the negative, neutral and positive analysis\n",
        "def getAnalysis(score):\n",
        "  if score < 0:\n",
        "    return 'Negative'\n",
        "  elif score == 0:\n",
        "    return 'Neutral'\n",
        "  else:\n",
        "    return 'Positive'\n",
        "  \n",
        "df['Analysis'] = df['Polarity'].apply(getAnalysis)\n",
        "\n",
        "#Show the dataframe\n",
        "df"
      ],
      "execution_count": 0,
      "outputs": []
    },
    {
      "cell_type": "code",
      "metadata": {
        "id": "U1gVOOi5w6_Q",
        "colab_type": "code",
        "colab": {}
      },
      "source": [
        "# Print all the positive tweets\n",
        "j = 1\n",
        "sortedDf =  df.sort_values(by=['Polarity'])\n",
        "for i  in range(0, sortedDf.shape[0]):\n",
        "  if (sortedDf['Analysis'][i] == 'Positive'):\n",
        "    print(str(j) + ')'+sortedDf['Tweets'][i])\n",
        "    print()\n",
        "    j = j+1"
      ],
      "execution_count": 0,
      "outputs": []
    },
    {
      "cell_type": "code",
      "metadata": {
        "id": "uzdHLq_syLES",
        "colab_type": "code",
        "colab": {}
      },
      "source": [
        "# Lets print the negative tweets\n",
        "j = 1\n",
        "sortedDf = df.sort_values(by=['Polarity'], ascending=False)\n",
        "for i in range(0, sortedDf.shape[0]):\n",
        "  if(sortedDf['Analysis'][i] == 'Negative'):\n",
        "    print(str(j) +')'+sortedDf['Tweets'][i])\n",
        "    print()\n",
        "    j = j+1\n"
      ],
      "execution_count": 0,
      "outputs": []
    },
    {
      "cell_type": "markdown",
      "metadata": {
        "id": "6x5PYb6-nDpV",
        "colab_type": "text"
      },
      "source": [
        "###5. **Visualization from Tweets**"
      ]
    },
    {
      "cell_type": "code",
      "metadata": {
        "id": "iijKadXGzTe7",
        "colab_type": "code",
        "colab": {}
      },
      "source": [
        "# Plot the polarity and subjectivity\n",
        "plt.figure(figsize=(8,6))\n",
        "for i in range(0, df.shape[0]):\n",
        "  plt.scatter(df['Polarity'][i], df['Sunjectivity'][i], color= 'Blue')\n",
        "\n",
        "plt.title('Sentiment Analysis')\n",
        "plt.xlabel('Polarity')\n",
        "plt.ylabel('Subjectivity')\n",
        "plt.show()"
      ],
      "execution_count": 0,
      "outputs": []
    },
    {
      "cell_type": "code",
      "metadata": {
        "id": "DAu11EYb0WXu",
        "colab_type": "code",
        "colab": {}
      },
      "source": [
        "# Get the percentage of positive tweets\n",
        "ptweets = df[df.Analysis == 'Positive']\n",
        "ptweets = ptweets['Tweets']\n",
        "\n",
        "round((ptweets.shape[0]/df.shape[0])*100,1)"
      ],
      "execution_count": 0,
      "outputs": []
    },
    {
      "cell_type": "code",
      "metadata": {
        "id": "6AF8WFQM1BpU",
        "colab_type": "code",
        "colab": {}
      },
      "source": [
        "# Get the percentage of negative tweets\n",
        "ntweets = df[df.Analysis == 'Negative']\n",
        "ntweets = ntweets['Tweets']\n",
        "\n",
        "round((ntweets.shape[0]/df.shape[0]*100),1)"
      ],
      "execution_count": 0,
      "outputs": []
    },
    {
      "cell_type": "code",
      "metadata": {
        "id": "-pmcskWE1avX",
        "colab_type": "code",
        "colab": {}
      },
      "source": [
        "# Show the value counts\n",
        "\n",
        "df['Analysis'].value_counts()\n",
        "\n",
        "#plot and visualize the count\n",
        "plt.title('Sentiment Analysis')\n",
        "plt.xlabel('Sentiment')\n",
        "plt.ylabel('Count')\n",
        "df['Analysis'].value_counts().plot(kind=\"bar\")\n",
        "plt.show()"
      ],
      "execution_count": 0,
      "outputs": []
    },
    {
      "cell_type": "markdown",
      "metadata": {
        "id": "69r18PKozmKu",
        "colab_type": "text"
      },
      "source": [
        "For ref:\n",
        "a. https://www.analyticsvidhya.com/blog/2018/02/natural-language-processing-for-beginners-using-textblob/"
      ]
    }
  ]
}